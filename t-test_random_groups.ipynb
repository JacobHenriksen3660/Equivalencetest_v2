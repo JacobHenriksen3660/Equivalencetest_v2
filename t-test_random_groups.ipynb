{
 "cells": [
  {
   "cell_type": "code",
   "execution_count": 1,
   "id": "beaf06e1",
   "metadata": {},
   "outputs": [],
   "source": [
    "import numpy as np\n",
    "import math\n",
    "import matplotlib.pyplot as plt\n",
    "import scipy\n",
    "import pandas as pd\n",
    "import seaborn as sns \n",
    "\n",
    "from ttest_functions import transform_headers #importing function from ttest_functions.py file\n",
    "from ttest_functions import two_one_sided_t_test"
   ]
  },
  {
   "cell_type": "code",
   "execution_count": 2,
   "id": "b9cdc9a5",
   "metadata": {},
   "outputs": [],
   "source": [
    "#get data frame and structure it\n",
    "df = pd.read_excel(C:\\Users\\<username>\\repositories\\data.xlsx')   \n",
    "df = transform_headers(df)\n",
    "df = df.dropna()\n",
    "headers = ['1:2','1:3','2:1','2:2','2:3','2:4','3:1','3:2','3:3','3:4','4:1','4:2','4:3','4:4',\n",
    "                 '5:1','5:2','5:3','5:4','6:2','6:3']\n"
   ]
  },
  {
   "cell_type": "code",
   "execution_count": 1,
   "id": "4f96c240",
   "metadata": {
    "code_folding": []
   },
   "outputs": [
    {
     "ename": "NameError",
     "evalue": "name 'np' is not defined",
     "output_type": "error",
     "traceback": [
      "\u001b[1;31m---------------------------------------------------------------------------\u001b[0m",
      "\u001b[1;31mNameError\u001b[0m                                 Traceback (most recent call last)",
      "\u001b[1;32m~\\AppData\\Local\\Temp\\ipykernel_13372\\571987498.py\u001b[0m in \u001b[0;36m<module>\u001b[1;34m\u001b[0m\n\u001b[0;32m      1\u001b[0m \u001b[1;31m# Shuffle the data randomly\u001b[0m\u001b[1;33m\u001b[0m\u001b[1;33m\u001b[0m\u001b[0m\n\u001b[1;32m----> 2\u001b[1;33m \u001b[0mDE_1_2r\u001b[0m \u001b[1;33m=\u001b[0m \u001b[0mnp\u001b[0m\u001b[1;33m.\u001b[0m\u001b[0mrandom\u001b[0m\u001b[1;33m.\u001b[0m\u001b[0mpermutation\u001b[0m\u001b[1;33m(\u001b[0m\u001b[0mdf\u001b[0m\u001b[1;33m[\u001b[0m\u001b[1;33m[\u001b[0m\u001b[1;34m'1:2'\u001b[0m\u001b[1;33m]\u001b[0m\u001b[1;33m]\u001b[0m\u001b[1;33m.\u001b[0m\u001b[0mvalues\u001b[0m\u001b[1;33m.\u001b[0m\u001b[0mreshape\u001b[0m\u001b[1;33m(\u001b[0m\u001b[1;33m-\u001b[0m\u001b[1;36m1\u001b[0m\u001b[1;33m,\u001b[0m \u001b[1;36m1\u001b[0m\u001b[1;33m)\u001b[0m\u001b[1;33m)\u001b[0m\u001b[1;33m\u001b[0m\u001b[1;33m\u001b[0m\u001b[0m\n\u001b[0m\u001b[0;32m      3\u001b[0m \u001b[0mDE_1_3r\u001b[0m \u001b[1;33m=\u001b[0m \u001b[0mnp\u001b[0m\u001b[1;33m.\u001b[0m\u001b[0mrandom\u001b[0m\u001b[1;33m.\u001b[0m\u001b[0mpermutation\u001b[0m\u001b[1;33m(\u001b[0m\u001b[0mdf\u001b[0m\u001b[1;33m[\u001b[0m\u001b[1;33m[\u001b[0m\u001b[1;34m'1:3'\u001b[0m\u001b[1;33m]\u001b[0m\u001b[1;33m]\u001b[0m\u001b[1;33m.\u001b[0m\u001b[0mvalues\u001b[0m\u001b[1;33m.\u001b[0m\u001b[0mreshape\u001b[0m\u001b[1;33m(\u001b[0m\u001b[1;33m-\u001b[0m\u001b[1;36m1\u001b[0m\u001b[1;33m,\u001b[0m \u001b[1;36m1\u001b[0m\u001b[1;33m)\u001b[0m\u001b[1;33m)\u001b[0m\u001b[1;33m\u001b[0m\u001b[1;33m\u001b[0m\u001b[0m\n\u001b[0;32m      4\u001b[0m \u001b[0mDE_2_1r\u001b[0m \u001b[1;33m=\u001b[0m \u001b[0mnp\u001b[0m\u001b[1;33m.\u001b[0m\u001b[0mrandom\u001b[0m\u001b[1;33m.\u001b[0m\u001b[0mpermutation\u001b[0m\u001b[1;33m(\u001b[0m\u001b[0mdf\u001b[0m\u001b[1;33m[\u001b[0m\u001b[1;33m[\u001b[0m\u001b[1;34m'2:1'\u001b[0m\u001b[1;33m]\u001b[0m\u001b[1;33m]\u001b[0m\u001b[1;33m.\u001b[0m\u001b[0mvalues\u001b[0m\u001b[1;33m.\u001b[0m\u001b[0mreshape\u001b[0m\u001b[1;33m(\u001b[0m\u001b[1;33m-\u001b[0m\u001b[1;36m1\u001b[0m\u001b[1;33m,\u001b[0m \u001b[1;36m1\u001b[0m\u001b[1;33m)\u001b[0m\u001b[1;33m)\u001b[0m\u001b[1;33m\u001b[0m\u001b[1;33m\u001b[0m\u001b[0m\n\u001b[0;32m      5\u001b[0m \u001b[0mDE_2_2r\u001b[0m \u001b[1;33m=\u001b[0m \u001b[0mnp\u001b[0m\u001b[1;33m.\u001b[0m\u001b[0mrandom\u001b[0m\u001b[1;33m.\u001b[0m\u001b[0mpermutation\u001b[0m\u001b[1;33m(\u001b[0m\u001b[0mdf\u001b[0m\u001b[1;33m[\u001b[0m\u001b[1;33m[\u001b[0m\u001b[1;34m'2:2'\u001b[0m\u001b[1;33m]\u001b[0m\u001b[1;33m]\u001b[0m\u001b[1;33m.\u001b[0m\u001b[0mvalues\u001b[0m\u001b[1;33m.\u001b[0m\u001b[0mreshape\u001b[0m\u001b[1;33m(\u001b[0m\u001b[1;33m-\u001b[0m\u001b[1;36m1\u001b[0m\u001b[1;33m,\u001b[0m \u001b[1;36m1\u001b[0m\u001b[1;33m)\u001b[0m\u001b[1;33m)\u001b[0m\u001b[1;33m\u001b[0m\u001b[1;33m\u001b[0m\u001b[0m\n",
      "\u001b[1;31mNameError\u001b[0m: name 'np' is not defined"
     ]
    }
   ],
   "source": [
    "# Shuffle the data randomly\n",
    "DE_1_2r = np.random.permutation(df[['1:2']].values.reshape(-1, 1))\n",
    "DE_1_3r = np.random.permutation(df[['1:3']].values.reshape(-1, 1))\n",
    "DE_2_1r = np.random.permutation(df[['2:1']].values.reshape(-1, 1))\n",
    "DE_2_2r = np.random.permutation(df[['2:2']].values.reshape(-1, 1))\n",
    "DE_2_3r = np.random.permutation(df[['2:3']].values.reshape(-1, 1))\n",
    "DE_2_4r = np.random.permutation(df[['2:4']].values.reshape(-1, 1))\n",
    "DE_3_1r = np.random.permutation(df[['3:1']].values.reshape(-1, 1))\n",
    "DE_3_2r = np.random.permutation(df[['3:2']].values.reshape(-1, 1))\n",
    "DE_3_3r = np.random.permutation(df[['3:3']].values.reshape(-1, 1))\n",
    "DE_3_4r = np.random.permutation(df[['3:4']].values.reshape(-1, 1))\n",
    "DE_4_1r = np.random.permutation(df[['4:1']].values.reshape(-1, 1))\n",
    "DE_4_2r = np.random.permutation(df[['4:2']].values.reshape(-1, 1))\n",
    "DE_4_3r = np.random.permutation(df[['4:3']].values.reshape(-1, 1))\n",
    "DE_4_4r = np.random.permutation(df[['4:4']].values.reshape(-1, 1))\n",
    "DE_5_1r = np.random.permutation(df[['5:1']].values.reshape(-1, 1))\n",
    "DE_5_2r = np.random.permutation(df[['5:2']].values.reshape(-1, 1))\n",
    "DE_5_3r = np.random.permutation(df[['5:3']].values.reshape(-1, 1))\n",
    "DE_5_4r = np.random.permutation(df[['5:4']].values.reshape(-1, 1))\n",
    "DE_6_2r = np.random.permutation(df[['6:2']].values.reshape(-1, 1))\n",
    "DE_6_3r = np.random.permutation(df[['6:3']].values.reshape(-1, 1))\n",
    "#find half length of data\n",
    "n_half = round(len(df[['1:2']])/2)\n"
   ]
  },
  {
   "cell_type": "code",
   "execution_count": 16,
   "id": "be171910",
   "metadata": {},
   "outputs": [],
   "source": [
    "#calculate p-values for all gratings for a data split up into two equal size pools:\n",
    "p_value_1_2 = two_one_sided_t_test(DE_1_2r[0:n_half],\\\n",
    "                                   DE_1_2r[n_half:])\n",
    "\n",
    "p_value_1_3 = two_one_sided_t_test(DE_1_3r[0:n_half],\\\n",
    "                                   DE_1_3r[n_half+1:])\n",
    "\n",
    "p_value_2_1 = two_one_sided_t_test(DE_2_1r[0:n_half],\\\n",
    "                                   DE_2_1r[n_half+1:])\n",
    "\n",
    "p_value_2_2 = two_one_sided_t_test(DE_2_2r[0:n_half],\\\n",
    "                                   DE_2_2r[n_half+1:])\n",
    "\n",
    "p_value_2_3 = two_one_sided_t_test(DE_2_3r[0:n_half],\\\n",
    "                                   DE_2_3r[n_half+1:])\n",
    "\n",
    "p_value_2_4 = two_one_sided_t_test(DE_2_4r[0:n_half],\\\n",
    "                                   DE_2_4r[n_half+1:])\n",
    "\n",
    "p_value_3_1 = two_one_sided_t_test(DE_3_1r[0:n_half],\\\n",
    "                                   DE_3_1r[n_half+1:])\n",
    "\n",
    "p_value_3_2 = two_one_sided_t_test(DE_3_2r[0:n_half],\\\n",
    "                                   DE_3_2r[n_half+1:])\n",
    "\n",
    "p_value_3_3 = two_one_sided_t_test(DE_3_3r[0:n_half],\\\n",
    "                                   DE_3_3r[n_half+1:])\n",
    "\n",
    "p_value_3_4 = two_one_sided_t_test(DE_3_4r[0:n_half],\\\n",
    "                                   DE_3_4r[n_half+1:])\n",
    "\n",
    "p_value_4_1 = two_one_sided_t_test(DE_4_1r[0:n_half],\\\n",
    "                                   DE_4_1r[n_half+1:])\n",
    "\n",
    "p_value_4_2 = two_one_sided_t_test(DE_4_2r[0:n_half],\\\n",
    "                                   DE_4_2r[n_half+1:])\n",
    "\n",
    "p_value_4_3 = two_one_sided_t_test(DE_4_3r[0:n_half],\\\n",
    "                                   DE_4_3r[n_half+1:])\n",
    "\n",
    "p_value_4_4 = two_one_sided_t_test(DE_4_4r[0:n_half],\\\n",
    "                                   DE_4_4r[n_half+1:])\n",
    "\n",
    "p_value_5_1 = two_one_sided_t_test(DE_5_1r[0:n_half],\\\n",
    "                                   DE_5_1r[n_half+1:])\n",
    "\n",
    "p_value_5_2 = two_one_sided_t_test(DE_5_2r[0:n_half],\\\n",
    "                                   DE_5_2r[n_half+1:])\n",
    "\n",
    "p_value_5_3 = two_one_sided_t_test(DE_5_3r[0:n_half],\\\n",
    "                                   DE_5_3r[n_half+1:])\n",
    "\n",
    "p_value_5_4 = two_one_sided_t_test(DE_5_4r[0:n_half],\\\n",
    "                                   DE_5_4r[n_half+1:])\n",
    "\n",
    "p_value_6_2 = two_one_sided_t_test(DE_6_2r[0:n_half],\\\n",
    "                                   DE_6_2r[n_half+1:])\n",
    "\n",
    "p_value_6_3 = two_one_sided_t_test(DE_6_3r[0:n_half],\\\n",
    "                                   DE_6_3r[n_half+1:])\n",
    "#collect all p-values in a list\n",
    "p_value_list = [p_value_1_2[1],p_value_1_3[1],p_value_2_1[1],p_value_2_2[1],\\\n",
    "                p_value_2_3[1],p_value_2_4[1],p_value_3_1[1],p_value_3_2[1],\\\n",
    "                p_value_3_3[1],p_value_3_4[1],p_value_4_1[1],p_value_4_2[1],\\\n",
    "                p_value_4_3[1],p_value_4_4[1],p_value_5_1[1],p_value_5_2[1],\\\n",
    "                p_value_5_3[1],p_value_5_4[1],p_value_6_2[1],p_value_6_3[1]]\n",
    "#collect true or false in array according to acception or rejection of H_0\n",
    "accept_list = [p_value_1_2[0],p_value_1_3[0],p_value_2_1[0],p_value_2_2[0],\\\n",
    "               p_value_2_3[0],p_value_2_4[0],p_value_3_1[0],p_value_3_2[0],\\\n",
    "               p_value_3_3[0],p_value_3_4[0],p_value_4_1[0],p_value_4_2[0],\\\n",
    "               p_value_4_3[0],p_value_4_4[0],p_value_5_1[0],p_value_5_2[0],\\\n",
    "               p_value_5_3[0],p_value_5_4[0],p_value_6_2[0],p_value_6_3[0]]\n"
   ]
  },
  {
   "cell_type": "code",
   "execution_count": 17,
   "id": "47ef425d",
   "metadata": {},
   "outputs": [],
   "source": [
    "tabel = {'gitter': headers,\n",
    "         'p_value' : p_value_list,\n",
    "         'No significant diffrence between means?' : accept_list\n",
    "        }\n",
    "\n",
    "#choose the path and .xlsx file name as the destination for where the data is saved.\n",
    "pd.DataFrame(tabel).to_excel('C:\\Users\\<username>\\repositories\\data.xlsx, index=False, sheet_name='Sheet1')"
   ]
  },
  {
   "cell_type": "code",
   "execution_count": null,
   "id": "af2fdb3d",
   "metadata": {},
   "outputs": [],
   "source": []
  },
  {
   "cell_type": "code",
   "execution_count": null,
   "id": "3f0c4f5a",
   "metadata": {},
   "outputs": [],
   "source": []
  }
 ],
 "metadata": {
  "kernelspec": {
   "display_name": "Python 3 (ipykernel)",
   "language": "python",
   "name": "python3"
  },
  "language_info": {
   "codemirror_mode": {
    "name": "ipython",
    "version": 3
   },
   "file_extension": ".py",
   "mimetype": "text/x-python",
   "name": "python",
   "nbconvert_exporter": "python",
   "pygments_lexer": "ipython3",
   "version": "3.9.13"
  }
 },
 "nbformat": 4,
 "nbformat_minor": 5
}
